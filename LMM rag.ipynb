{
 "cells": [
  {
   "cell_type": "markdown",
   "metadata": {},
   "source": [
    "# L4: Multimodal Retrieval Augmented Generation (MM-RAG)"
   ]
  },
  {
   "cell_type": "markdown",
   "metadata": {},
   "source": [
    "<p style=\"background-color:#fff6e4; padding:15px; border-width:3px; border-color:#f5ecda; border-style:solid; border-radius:6px\"> ⏳ <b>Note <code>(Kernel Starting)</code>:</b> This notebook takes about 30 seconds to be ready to use. You may start and watch the video while you wait.</p>"
   ]
  },
  {
   "cell_type": "markdown",
   "metadata": {},
   "source": [
    ">how to leverage Weaviate and Google Gemini to carry out a simple multimodal RAG workflow."
   ]
  },
  {
   "cell_type": "markdown",
   "metadata": {},
   "source": [
    "```\n",
    "    !pip install -U weaviate-client\n",
    "    !pip install google-generativeai\n",
    "```"
   ]
  },
  {
   "cell_type": "code",
   "execution_count": 1,
   "metadata": {
    "height": 47
   },
   "outputs": [],
   "source": [
    "import warnings\n",
    "warnings.filterwarnings(\"ignore\")"
   ]
  },
  {
   "cell_type": "markdown",
   "metadata": {},
   "source": [
    "## Setup\n",
    "### Load environment variables and API keys"
   ]
  },
  {
   "cell_type": "code",
   "execution_count": 2,
   "metadata": {
    "height": 115
   },
   "outputs": [],
   "source": [
    "import os\n",
    "from dotenv import load_dotenv, find_dotenv\n",
    "_ = load_dotenv(find_dotenv()) # read local .env file\n",
    "\n",
    "EMBEDDING_API_KEY = os.getenv(\"EMBEDDING_API_KEY\")\n",
    "GOOGLE_API_KEY=os.getenv(\"GOOGLE_API_KEY\")"
   ]
  },
  {
   "cell_type": "markdown",
   "metadata": {},
   "source": [
    "> Note: learn more about [GOOGLE_API_KEY](https://ai.google.dev/) to run it locally."
   ]
  },
  {
   "cell_type": "markdown",
   "metadata": {},
   "source": [
    "### Connect to Weaviate"
   ]
  },
  {
   "cell_type": "code",
   "execution_count": 3,
   "metadata": {
    "height": 251
   },
   "outputs": [
    {
     "name": "stdout",
     "output_type": "stream",
     "text": [
      "Started /home/jovyan/.cache/weaviate-embedded: process ID 236\n"
     ]
    },
    {
     "name": "stderr",
     "output_type": "stream",
     "text": [
      "{\"action\":\"startup\",\"default_vectorizer_module\":\"none\",\"level\":\"info\",\"msg\":\"the default vectorizer modules is set to \\\"none\\\", as a result all new schema classes without an explicit vectorizer setting, will use this vectorizer\",\"time\":\"2025-04-15T18:33:58Z\"}\n",
      "{\"action\":\"startup\",\"auto_schema_enabled\":true,\"level\":\"info\",\"msg\":\"auto schema enabled setting is set to \\\"true\\\"\",\"time\":\"2025-04-15T18:33:58Z\"}\n",
      "{\"level\":\"info\",\"msg\":\"No resource limits set, weaviate will use all available memory and CPU. To limit resources, set LIMIT_RESOURCES=true\",\"time\":\"2025-04-15T18:33:58Z\"}\n",
      "{\"action\":\"grpc_startup\",\"level\":\"info\",\"msg\":\"grpc server listening at [::]:50050\",\"time\":\"2025-04-15T18:33:58Z\"}\n",
      "{\"action\":\"restapi_management\",\"level\":\"info\",\"msg\":\"Serving weaviate at http://127.0.0.1:8079\",\"time\":\"2025-04-15T18:33:58Z\"}\n",
      "/usr/local/lib/python3.11/site-packages/weaviate/warnings.py:130: DeprecationWarning: Dep005: You are using weaviate-client version 4.5.4. The latest version is 4.13.2.\n",
      "            Please consider upgrading to the latest version. See https://weaviate.io/developers/weaviate/client-libraries/python for details.\n",
      "  warnings.warn(\n"
     ]
    },
    {
     "data": {
      "text/plain": [
       "True"
      ]
     },
     "execution_count": 3,
     "metadata": {},
     "output_type": "execute_result"
    },
    {
     "name": "stderr",
     "output_type": "stream",
     "text": [
      "{\"action\":\"telemetry_push\",\"level\":\"info\",\"msg\":\"telemetry started\",\"payload\":\"\\u0026{MachineID:d4d820b6-7cd7-457e-8009-d0d8b1936f82 Type:INIT Version:1.24.21 NumObjects:0 OS:linux Arch:amd64 UsedModules:[]}\",\"time\":\"2025-04-15T18:33:58Z\"}\n"
     ]
    }
   ],
   "source": [
    "import weaviate\n",
    "\n",
    "client = weaviate.connect_to_embedded(\n",
    "    version=\"1.24.21\",\n",
    "    environment_variables={\n",
    "        \"ENABLE_MODULES\": \"backup-filesystem,multi2vec-palm\",\n",
    "        \"BACKUP_FILESYSTEM_PATH\": \"/home/jovyan/work/L4/backups\",\n",
    "    },\n",
    "    headers={\n",
    "        \"X-PALM-Api-Key\": EMBEDDING_API_KEY,\n",
    "    }\n",
    ")\n",
    "\n",
    "client.is_ready()"
   ]
  },
  {
   "cell_type": "markdown",
   "metadata": {},
   "source": [
    "### Restore 13k+ prevectorized resources"
   ]
  },
  {
   "cell_type": "code",
   "execution_count": 4,
   "metadata": {
    "height": 217
   },
   "outputs": [
    {
     "name": "stderr",
     "output_type": "stream",
     "text": [
      "{\"action\":\"try_restore\",\"backend\":\"filesystem\",\"backup_id\":\"resources-img-and-vid\",\"level\":\"info\",\"msg\":\"\",\"time\":\"2025-04-15T18:34:03Z\",\"took\":2545527}\n",
      "{\"action\":\"hnsw_prefill_cache_async\",\"level\":\"info\",\"msg\":\"not waiting for vector cache prefill, running in background\",\"time\":\"2025-04-15T18:34:03Z\",\"wait_for_cache_prefill\":false}\n",
      "{\"level\":\"info\",\"msg\":\"Completed loading shard resources_YR4XdMe3ODX3 in 8.861634ms\",\"time\":\"2025-04-15T18:34:03Z\"}\n",
      "{\"action\":\"restore\",\"backup_id\":\"resources-img-and-vid\",\"class\":\"Resources\",\"level\":\"info\",\"msg\":\"successfully restored\",\"time\":\"2025-04-15T18:34:03Z\"}\n",
      "{\"action\":\"restore\",\"backup_id\":\"resources-img-and-vid\",\"level\":\"info\",\"msg\":\"backup restored successfully\",\"time\":\"2025-04-15T18:34:03Z\"}\n",
      "{\"action\":\"hnsw_vector_cache_prefill\",\"count\":16062,\"index_id\":\"main\",\"level\":\"info\",\"limit\":1000000000000,\"msg\":\"prefilled vector cache\",\"time\":\"2025-04-15T18:34:04Z\",\"took\":152162292}\n",
      "{\"action\":\"restore\",\"backup_id\":\"resources-img-and-vid\",\"level\":\"info\",\"msg\":\"coordinator: backup restored successfully\",\"time\":\"2025-04-15T18:34:05Z\"}\n"
     ]
    }
   ],
   "source": [
    "client.collections.delete(\"Resources\")\n",
    "\n",
    "client.backup.restore(\n",
    "    backup_id=\"resources-img-and-vid\",\n",
    "    include_collections=\"Resources\",\n",
    "    backend=\"filesystem\"\n",
    ")\n",
    "\n",
    "# It can take a few seconds for the \"Resources\" collection to be ready.\n",
    "# We add 5 seconds of sleep to make sure it is ready for the next cells to use.\n",
    "import time\n",
    "time.sleep(5)"
   ]
  },
  {
   "cell_type": "markdown",
   "metadata": {},
   "source": [
    "### Preview data count"
   ]
  },
  {
   "cell_type": "code",
   "execution_count": 5,
   "metadata": {
    "height": 200
   },
   "outputs": [
    {
     "name": "stdout",
     "output_type": "stream",
     "text": [
      "image count: 13394\n",
      "video count: 200\n"
     ]
    }
   ],
   "source": [
    "from weaviate.classes.aggregate import GroupByAggregate\n",
    "\n",
    "resources = client.collections.get(\"Resources\")\n",
    "\n",
    "response = resources.aggregate.over_all(\n",
    "    group_by=GroupByAggregate(prop=\"mediaType\")\n",
    ")\n",
    "\n",
    "# print rounds names and the count for each\n",
    "for group in response.groups:\n",
    "    print(f\"{group.grouped_by.value} count: {group.total_count}\")"
   ]
  },
  {
   "cell_type": "markdown",
   "metadata": {},
   "source": [
    "## Multimodal RAG"
   ]
  },
  {
   "cell_type": "markdown",
   "metadata": {},
   "source": [
    "### Step 1 – Retrieve content from the database with a query"
   ]
  },
  {
   "cell_type": "code",
   "execution_count": 6,
   "metadata": {
    "height": 268
   },
   "outputs": [],
   "source": [
    "from IPython.display import Image\n",
    "from weaviate.classes.query import Filter\n",
    "\n",
    "def retrieve_image(query):\n",
    "    resources = client.collections.get(\"Resources\")\n",
    "# ============\n",
    "    response = resources.query.near_text(\n",
    "        query=query,\n",
    "        filters=Filter.by_property(\"mediaType\").equal(\"image\"), # only return image objects\n",
    "        return_properties=[\"path\"],\n",
    "        limit = 1,\n",
    "    )\n",
    "# ============\n",
    "    result = response.objects[0].properties\n",
    "    return result[\"path\"] # Get the image path"
   ]
  },
  {
   "cell_type": "markdown",
   "metadata": {},
   "source": [
    "### Run image retrieval"
   ]
  },
  {
   "cell_type": "code",
   "execution_count": 12,
   "metadata": {
    "height": 64
   },
   "outputs": [
    {
     "data": {
      "image/jpeg": "[encoded data removed]",
      "text/plain": [
       "<IPython.core.display.Image object>"
      ]
     },
     "metadata": {},
     "output_type": "display_data"
    }
   ],
   "source": [
    "# Try with different queries to retreive an image\n",
    "img_path = retrieve_image(\"fishing with my son\")\n",
    "display(Image(img_path))"
   ]
  },
  {
   "cell_type": "markdown",
   "metadata": {},
   "source": [
    "<p style=\"background-color:#fff6ff; padding:15px; border-width:3px; border-color:#efe6ef; border-style:solid; border-radius:6px\"> 💻 &nbsp; <b>Access Files and Helper Functions:</b> To access the files for this notebook, 1) click on the <em>\"File\"</em> option on the top menu of the notebook and then 2) click on <em>\"Open\"</em>. For more help, please see the <em>\"Appendix - Tips and Help\"</em> Lesson.</p>\n"
   ]
  },
  {
   "cell_type": "markdown",
   "metadata": {},
   "source": [
    "### Step 2 - Generate a description of the image"
   ]
  },
  {
   "cell_type": "code",
   "execution_count": 14,
   "metadata": {
    "height": 200
   },
   "outputs": [],
   "source": [
    "import google.generativeai as genai\n",
    "from google.api_core.client_options import ClientOptions\n",
    "\n",
    "# Set the Vision model key\n",
    "genai.configure(\n",
    "        api_key=GOOGLE_API_KEY,\n",
    "        transport=\"rest\",\n",
    "        client_options=ClientOptions(\n",
    "            api_endpoint=os.getenv(\"GOOGLE_API_BASE\"),\n",
    "        ),\n",
    ")"
   ]
  },
  {
   "cell_type": "markdown",
   "metadata": {},
   "source": [
    ">**Note:** Late 2024, the model `'gemini-pro-vision'` (originally shown in the video's notebook) has been replaced with `'gemini-1.5-flash'` for updates.\n",
    "Additionally, due to this change, the parameter `stream=True` has now been set to `stream=False`."
   ]
  },
  {
   "cell_type": "code",
   "execution_count": 15,
   "metadata": {
    "height": 302
   },
   "outputs": [],
   "source": [
    "# Helper function\n",
    "import textwrap\n",
    "import PIL.Image\n",
    "from IPython.display import Markdown, Image\n",
    "\n",
    "def to_markdown(text):\n",
    "    text = text.replace(\"•\", \"  *\")\n",
    "    return Markdown(textwrap.indent(text, \"> \", predicate=lambda _: True))\n",
    "\n",
    "def call_LMM(image_path: str, prompt: str) -> str:\n",
    "    img = PIL.Image.open(image_path)\n",
    "\n",
    "    model = genai.GenerativeModel(\"gemini-1.5-flash\")\n",
    "    response = model.generate_content([prompt, img], stream=False)\n",
    "    response.resolve()\n",
    "\n",
    "    return to_markdown(response.text)    "
   ]
  },
  {
   "cell_type": "markdown",
   "metadata": {},
   "source": [
    "<p style=\"background-color:#cceecc; padding:15px; border-width:3px; border-color:#f5ecda; border-style:solid; border-radius:6px\"> 🚨 <b>Different Run Results:</b> The output generated by AI models can vary with each execution due to their probabilistic nature. Don't be surprised if your results differ from those shown in the video.</p>"
   ]
  },
  {
   "cell_type": "markdown",
   "metadata": {},
   "source": [
    "### Run vision request"
   ]
  },
  {
   "cell_type": "code",
   "execution_count": 16,
   "metadata": {
    "height": 30
   },
   "outputs": [
    {
     "data": {
      "text/markdown": [
       "> That's a lovely photo! Here's a description:\n",
       "> \n",
       "> The image shows a man and a young boy proudly displaying a large tench fish they've caught. \n",
       "> \n",
       "> \n",
       "> Here's a breakdown of the details:\n",
       "> \n",
       "> * **The People:** A middle-aged man with short, light brown hair is crouched down, his arm around a younger boy with short, blond hair. The man is wearing a light green t-shirt and blue jeans, and brown shoes. The boy is also wearing blue jeans, and a dark-colored, possibly striped, shirt. Both have happy expressions.\n",
       "> \n",
       "> * **The Fish:** The tench is substantial in size, olive-green in color, and held gently by both the man and boy. It's the clear focal point of the image.\n",
       "> \n",
       "> * **The Setting:** The background is softly blurred, but shows lush green vegetation, suggesting a park or garden setting near a body of water where the fishing took place. A portion of a dark blue folding camping chair with a nautical anchor design is visible in the upper right corner. The ground is grassy.\n",
       "> \n",
       "> * **Overall:** The picture conveys a feeling of warmth, accomplishment, and the joy of a shared outdoor experience between a father and son. The lighting is natural and bright, suggesting a sunny day. The overall composition is informal and candid, capturing a genuine moment.\n"
      ],
      "text/plain": [
       "<IPython.core.display.Markdown object>"
      ]
     },
     "execution_count": 16,
     "metadata": {},
     "output_type": "execute_result"
    }
   ],
   "source": [
    "call_LMM(img_path, \"Please describe this image in detail.\")"
   ]
  },
  {
   "cell_type": "markdown",
   "metadata": {},
   "source": [
    "> Note: Please be aware that the output from the previous cell may differ from what is shown in the video. This variation is normal and should not cause concern."
   ]
  },
  {
   "cell_type": "markdown",
   "metadata": {},
   "source": [
    "## All together"
   ]
  },
  {
   "cell_type": "code",
   "execution_count": 17,
   "metadata": {
    "height": 166
   },
   "outputs": [],
   "source": [
    "def mm_rag(query):\n",
    "    # Step 1 - retrieve an image – Weaviate\n",
    "    SOURCE_IMAGE = retrieve_image(query)\n",
    "    display(Image(SOURCE_IMAGE))\n",
    "#===========\n",
    "\n",
    "    # Step 2 - generate a description - GPT4\n",
    "    description = call_LMM(SOURCE_IMAGE, \"Please describe this image in detail.\")\n",
    "    return description"
   ]
  },
  {
   "cell_type": "code",
   "execution_count": 18,
   "metadata": {
    "height": 47
   },
   "outputs": [
    {
     "data": {
      "image/jpeg": "[encoded data removed]",
      "text/plain": [
       "<IPython.core.display.Image object>"
      ]
     },
     "metadata": {},
     "output_type": "display_data"
    },
    {
     "data": {
      "text/markdown": [
       "> Here's a description of the image:\n",
       "> \n",
       "> Eye-level view of a red paraglider soaring over a vast, mountainous landscape. \n",
       "> \n",
       "> \n",
       "> Here's a breakdown of the details:\n",
       "> \n",
       "> * **The Paraglider:** A vibrant red paraglider dominates the mid-ground. It's fully inflated and appears to be carrying two people, though they are small and indistinct from this distance. The lines connecting the paraglider to the harness are clearly visible.\n",
       "> \n",
       "> * **The Landscape:** The background is a sweeping panorama of rolling hills and mountains covered in dense, dark green forest. The mountains are softly rounded, indicating a possibly Mediterranean or similar climate.  The far-off hills are lighter in color, suggesting a hazy atmosphere or distance. A lighter-colored area, possibly a clearing or field, is visible on one of the mid-range hills.\n",
       "> \n",
       "> * **The Foreground:** The foreground shows a small portion of scrubby vegetation on a hillside, suggesting a somewhat rugged, natural environment.\n",
       "> \n",
       "> * **The Sky:** The sky is a pale, light blue, almost washed-out, suggesting an overcast day or soft, diffused light. There are no harsh shadows.\n",
       "> \n",
       "> The overall impression is one of serenity and freedom, with the paraglider adding a sense of adventure to the tranquil landscape. The color palette is predominantly greens and blues, with the red of the paraglider providing a sharp contrast. The image has a peaceful and somewhat romantic feel.\n"
      ],
      "text/plain": [
       "<IPython.core.display.Markdown object>"
      ]
     },
     "execution_count": 18,
     "metadata": {},
     "output_type": "execute_result"
    }
   ],
   "source": [
    "# Call mm_rag function\n",
    "mm_rag(\"paragliding through the mountains\")"
   ]
  },
  {
   "cell_type": "code",
   "execution_count": null,
   "metadata": {
    "height": 47
   },
   "outputs": [],
   "source": [
    "# Remember to close the weaviate instance\n",
    "client.close()"
   ]
  },
  {
   "cell_type": "markdown",
   "metadata": {},
   "source": [
    "### Try it yourself! \n",
    "\n",
    "Run the cells above selecting another image from the database and generate a description for it!"
   ]
  }
 ],
 "metadata": {
  "kernelspec": {
   "display_name": "Python 3 (ipykernel)",
   "language": "python",
   "name": "python3"
  },
  "language_info": {
   "codemirror_mode": {
    "name": "ipython",
    "version": 3
   },
   "file_extension": ".py",
   "mimetype": "text/x-python",
   "name": "python",
   "nbconvert_exporter": "python",
   "pygments_lexer": "ipython3",
   "version": "3.11.9"
  }
 },
 "nbformat": 4,
 "nbformat_minor": 4
}
